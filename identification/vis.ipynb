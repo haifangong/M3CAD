{
  "cells": [
    {
      "cell_type": "markdown",
      "metadata": {},
      "source": [
        "# 3D Voxel Visualization from PDB"
      ]
    },
    {
      "cell_type": "markdown",
      "metadata": {},
      "source": [
        "## 1. Install Dependencies (Optional)\n",
        "Make sure you have installed the following Python packages:\n",
        "```bash\n",
        "pip install biopython numpy pandas matplotlib scikit-image torch torchvision tqdm scipy\n",
        "```"
      ]
    },
    {
      "cell_type": "markdown",
      "metadata": {},
      "source": [
        "## 2. Import Modules and Define Constants"
      ]
    },
    {
      "cell_type": "code",
      "execution_count": null,
      "metadata": {},
      "outputs": [],
      "source": [
        "import os\n",
        "import pickle\n",
        "import matplotlib.pyplot as plt\n",
        "import numpy as np\n",
        "import pandas as pd\n",
        "from Bio.PDB import is_aa, PDBParser\n",
        "from Bio.PDB.Polypeptide import protein_letters_3to1\n",
        "from mpl_toolkits.mplot3d.art3d import Poly3DCollection\n",
        "from skimage import measure\n",
        "from torch.utils.data import Dataset\n",
        "from torchvision import transforms\n",
        "from tqdm import tqdm\n",
        "from scipy.ndimage import map_coordinates\n",
        "from matplotlib.colors import Normalize\n",
        "\n",
        "# --- The following constants should be defined according to your project ---\n",
        "# AMINO_ACID_WATER: dict, 1-letter amino acid -> water affinity\n",
        "# AMINO_ACID_CHARGE: dict, 1-letter amino acid -> charge value\n",
        "# AMAs: dict, 1-letter amino acid -> category index\n",
        "# ATOMS: dict, atom name (e.g. 'CA') -> weight\n",
        "# ATOMS_R: dict, atom name -> radius (int)\n",
        "# clamp: coordinate clipping function, e.g.:\n",
        "def```json
{
  "cells": [
    {
      "cell_type": "markdown",
      "metadata": {},
      "source": [
        "# 3D Voxel Visualization from PDB"
      ]
    },
    {
      "cell_type": "markdown",
      "metadata": {},
      "source": [
        "## 1. Install Dependencies (Optional)\n",
        "Make sure you have installed the following Python packages:\n",
        "```bash\n",
        "pip install biopython numpy pandas matplotlib scikit-image torch torchvision tqdm scipy\n",
        "```"
      ]
    },
    {
      "cell_type": "markdown",
      "metadata": {},
      "source": [
        "## 2. Import Modules and Define Constants"
      ]
    },
    {
      "cell_type": "code",
      "execution_count": null,
      "metadata": {},
      "outputs": [],
      "source": [
        "import os\n",
        "import pickle\n",
        "import matplotlib.pyplot as plt\n",
        "import numpy as np\n",
        "import pandas as pd\n",
        "from Bio.PDB import is_aa, PDBParser\n",
        "from Bio.PDB.Polypeptide import protein_letters_3to1\n",
        "from mpl_toolkits.mplot3d.art3d import Poly3DCollection\n",
        "from skimage import measure\n",
        "from torch.utils.data import Dataset\n",
        "from torchvision import transforms\n",
        "from tqdm import tqdm\n",
        "from scipy.ndimage import map_coordinates\n",
        "from matplotlib.colors import Normalize\n",
        "\n",
        "# --- The following constants should be defined according to your project ---\n",
        "# AMINO_ACID_WATER: dict, 1-letter amino acid -> water affinity\n",
        "# AMINO_ACID_CHARGE: dict, 1-letter amino acid -> charge value\n",
        "# AMAs: dict, 1-letter amino acid -> category index\n",
        "# ATOMS: dict, atom name (e.g. 'CA') -> weight\n",
        "# ATOMS_R: dict, atom name -> radius (int)\n",
        "# clamp: coordinate clipping function, e.g.:",
        "def clamp(x, min_val, max_val):\n",
        "    return max(min(x, max_val), min_val)\n"
      ]
    },
    {
      "cell_type": "markdown",
      "metadata": {},
      "source": [
        "## 3. Define the `pdb_parser` Function"
      ]
    },
    {
      "cell_type": "code",
      "execution_count": null,
      "metadata": {},
      "outputs": [],
      "source": [
        "def pdb_parser(parser, idx, pdb_path):\n",
        "    \"\"\"\n",
        "    Parse the PDB file, map structure to a (3×64×64×64) voxel grid,\n",
        "    and return the amino acid sequence string.\n",
        "    \"\"\"\n",
        "    # Initialize voxel grid: 3 channels (weight, water, charge)\n",
        "    voxel = np.zeros((3, 64, 64, 64), dtype=np.int8)\n",
        "    structure = parser.get_structure(idx, pdb_path)\n",
        "    # Get chain ID\n",
        "    chain_id = None\n",
        "    for model in structure:\n",
        "        for chain in model:\n",
        "            chain_id = chain.id\n",
        "    chain = structure[0][chain_id]\n",
        "    seq_str = ''\n",
        "    # Iterate over residues\n",
        "    for res in chain:\n",
        "        if is_aa(res.get_resname(), standard=True):\n",
        "            amino = protein_letters_3to1[res.get_resname()]\n",
        "            seq_str += amino\n",
        "            ATOM_WATER = AMINO_ACID_WATER[amino]\n",
        "            ATOM_CHARGE = AMINO_ACID_CHARGE[amino]\n",
        "            # ATOM_CATEGORY = AMAs[amino] * 20  # optional extra channel\n",
        "            for atom in res:\n",
        "                if atom.id not in ATOMS:\n",
        "                    continue\n",
        "                x, y, z = atom.get_coord()\n",
        "                # Clip coordinates\n",
        "                if abs(x) > 32: x = clamp(x, -31, 31)\n",
        "                if abs(y) > 32: y = clamp(y, -31, 31)\n",
        "                if abs(z) > 32: z = clamp(z, -31, 31)\n",
        "                xi, yi, zi = int(x) + 32, int(y) + 32, int(z) + 32\n",
        "                ATOM_WEIGHT = ATOMS[atom.id]\n",
        "                ATOM_R = ATOMS_R[atom.id]\n",
        "                # Fill voxels based on radius\n",
        "                if ATOM_R == 1:\n",
        "                    rng = slice(xi-1, xi)\n",
        "                elif ATOM_R <= 1.5:\n",
        "                    rng = slice(xi-1, xi+1)\n",
        "                else:\n",
        "                    r = int(ATOM_R)\n",
        "                    rng = slice(xi-r, xi+r)\n",
        "                voxel[0][rng, rng, rng] = ATOM_WEIGHT\n",
        "                voxel[1][rng, rng, rng] = ATOM_WATER\n",
        "                voxel[2][rng, rng, rng] = ATOM_CHARGE\n",
        "    return voxel, seq_str\n"
      ]
    },
    {
      "cell_type": "markdown",
      "metadata": {},
      "source": [
        "## 4. Define the `visualize_voxel_3d_rgb` Function"
      ]
    },
    {
      "cell_type": "code",
      "execution_count": null,
      "metadata": {},
      "outputs": [],
      "source": [
        "def visualize_voxel_3d_rgb(pdb_path: str,\n",
        "                           output_jpg: str,\n",
        "                           iso_channel: int = 0,\n",
        "                           threshold: float = 0.5,\n",
        "                           figsize: tuple = (8, 8),\n",
        "                           dpi: int = 300):\n",
        "    \"\"\"\n",
        "    Parse PDB file into voxels, extract isosurface, and save as JPEG\n",
        "    colored by RGB channels.\n",
        "    \"\"\"\n",
        "    parser = PDBParser(QUIET=True)\n",
        "    voxel, _ = pdb_parser(parser, 'struct', pdb_path)\n",
        "    volumes = [voxel[i].astype(np.float32) for i in range(3)]\n",
        "\n",
        "    # 2) Extract isosurface\n",
        "    verts, faces, normals, vals = measure.marching_cubes(\n",
        "        volumes[iso_channel],\n",
        "        level=threshold,\n",
        "        spacing=(1.0, 1.0, 1.0)\n",
        "    )\n",
        "    # 3) Sample all three channels at vertices\n",
        "    coords = np.vstack([verts[:,2], verts[:,1], verts[:,0]])\n",
        "    sampled = np.zeros((verts.shape[0], 3), dtype=np.float32)\n",
        "    for ch in range(3):\n",
        "        sampled[:, ch] = map_coordinates(\n",
        "            volumes[ch],\n",
        "            coords,\n",
        "            order=1,\n",
        "            mode='nearest'\n",
        "        )\n",
        "    # 4) Average values of its three vertices per face\n",
        "    face_vals = sampled[faces].mean(axis=1)\n",
        "    # 5) Normalize to [0,1]\n",
        "    norms = [Normalize(vmin=v.min(), vmax=v.max()) for v in volumes]\n",
        "    face_colors = np.zeros((faces.shape[0], 4), dtype=np.float32)\n",
        "    for ch in range(3): face_colors[:, ch] = norms[ch](face_vals[:, ch])\n",
        "    face_colors[:, 3] = 1.0\n",
        "    # 6) Plot\n",
        "    fig = plt.figure(figsize=figsize)\n",
        "    ax = fig.add_subplot(111, projection='3d')\n",
        "    mesh = Poly3DCollection(\n",
        "        verts[faces],\n",
        "        facecolors=face_colors,\n",
        "        linewidth=0.05,\n",
        "        edgecolor='gray'\n",
        "    )\n",
        "    ax.add_collection3d(mesh)\n",
        "    lim = volumes[0].shape[0]\n",
        "    ax.set_xlim(0, lim)\n",
        "    ax.set_ylim(0, lim)\n",
        "    ax.set_zlim(0, lim)\n",
        "    ax.set_xlabel('X')\n",
        "    ax.set_ylabel('Y')\n",
        "    ax.set_zlabel('Z')\n",
        "    ax.set_title(f'RGB Isosurface (ch={iso_channel}, thr={threshold})')\n",
        "    ax.text2D(\n",
        "        0.02, 0.95,\n",
        "        'R=weight (ch0), G=water (ch1), B=charge (ch2)',\n",
        "        transform=ax.transAxes\n",
        "    )\n",
        "    plt.tight_layout()\n",
        "    plt.savefig(output_jpg, dpi=dpi)\n",
        "    plt.close(fig)\n"
      ]
    },
    {
      "cell_type": "markdown",
      "metadata": {},
      "source": [
        "## 5. Example Usage"
      ]
    },
    {
      "cell_type": "code",
      "execution_count": null,
      "metadata": {},
      "outputs": [],
      "source": [
        "# Replace 'example.pdb' with your PDB file path\n",
        "pdb_file = 'example.pdb'\n",
        "output_file = 'example.jpg'\n",
        "# Adjust iso_channel (0,1,2) and threshold for different effects\n",
        "visualize_voxel_3d_rgb(pdb_file, output_file, iso_channel=0, threshold=0.3)\n",
        "print(f'Visualization saved to: {output_file}')\n"
      ]
    }
  ],
  "metadata": {
    "kernelspec": {
      "display_name": "Python 3",
      "language": "python",
      "name": "python3"
    },
    "language_info": {
      "name": "python",
      "version": "3.x"
    }
  },
  "nbformat": 4,
  "nbformat_minor": 5
}
